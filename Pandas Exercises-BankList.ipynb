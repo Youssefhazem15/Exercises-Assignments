{
 "cells": [
  {
   "cell_type": "markdown",
   "metadata": {},
   "source": [
    "# Pandas Exercises"
   ]
  },
  {
   "cell_type": "markdown",
   "metadata": {},
   "source": [
    "Time to test your pandas skills! Use the csv file to complete the tasks in bold below!\n",
    "\n"
   ]
  },
  {
   "cell_type": "markdown",
   "metadata": {},
   "source": [
    "** Import pandas and read in the banklist.csv file into a dataframe called banks. **"
   ]
  },
  {
   "cell_type": "code",
   "execution_count": 1,
   "metadata": {},
   "outputs": [],
   "source": [
    "import pandas as pd \n",
    "\n"
   ]
  },
  {
   "cell_type": "code",
   "execution_count": 2,
   "metadata": {},
   "outputs": [
    {
     "data": {
      "text/html": [
       "<div>\n",
       "<style scoped>\n",
       "    .dataframe tbody tr th:only-of-type {\n",
       "        vertical-align: middle;\n",
       "    }\n",
       "\n",
       "    .dataframe tbody tr th {\n",
       "        vertical-align: top;\n",
       "    }\n",
       "\n",
       "    .dataframe thead th {\n",
       "        text-align: right;\n",
       "    }\n",
       "</style>\n",
       "<table border=\"1\" class=\"dataframe\">\n",
       "  <thead>\n",
       "    <tr style=\"text-align: right;\">\n",
       "      <th></th>\n",
       "      <th>Bank Name</th>\n",
       "      <th>City</th>\n",
       "      <th>ST</th>\n",
       "      <th>CERT</th>\n",
       "      <th>Acquiring Institution</th>\n",
       "      <th>Closing Date</th>\n",
       "      <th>Updated Date</th>\n",
       "    </tr>\n",
       "  </thead>\n",
       "  <tbody>\n",
       "    <tr>\n",
       "      <th>0</th>\n",
       "      <td>Fayette County Bank</td>\n",
       "      <td>Saint Elmo</td>\n",
       "      <td>IL</td>\n",
       "      <td>1802</td>\n",
       "      <td>United Fidelity Bank, fsb</td>\n",
       "      <td>26-May-17</td>\n",
       "      <td>1-Jun-17</td>\n",
       "    </tr>\n",
       "    <tr>\n",
       "      <th>1</th>\n",
       "      <td>Guaranty Bank, (d/b/a BestBank in Georgia &amp; Mi...</td>\n",
       "      <td>Milwaukee</td>\n",
       "      <td>WI</td>\n",
       "      <td>30003</td>\n",
       "      <td>First-Citizens Bank &amp; Trust Company</td>\n",
       "      <td>5-May-17</td>\n",
       "      <td>1-Jun-17</td>\n",
       "    </tr>\n",
       "    <tr>\n",
       "      <th>2</th>\n",
       "      <td>First NBC Bank</td>\n",
       "      <td>New Orleans</td>\n",
       "      <td>LA</td>\n",
       "      <td>58302</td>\n",
       "      <td>Whitney Bank</td>\n",
       "      <td>28-Apr-17</td>\n",
       "      <td>23-May-17</td>\n",
       "    </tr>\n",
       "    <tr>\n",
       "      <th>3</th>\n",
       "      <td>Proficio Bank</td>\n",
       "      <td>Cottonwood Heights</td>\n",
       "      <td>UT</td>\n",
       "      <td>35495</td>\n",
       "      <td>Cache Valley Bank</td>\n",
       "      <td>3-Mar-17</td>\n",
       "      <td>18-May-17</td>\n",
       "    </tr>\n",
       "    <tr>\n",
       "      <th>4</th>\n",
       "      <td>Seaway Bank and Trust Company</td>\n",
       "      <td>Chicago</td>\n",
       "      <td>IL</td>\n",
       "      <td>19328</td>\n",
       "      <td>State Bank of Texas</td>\n",
       "      <td>27-Jan-17</td>\n",
       "      <td>18-May-17</td>\n",
       "    </tr>\n",
       "    <tr>\n",
       "      <th>...</th>\n",
       "      <td>...</td>\n",
       "      <td>...</td>\n",
       "      <td>...</td>\n",
       "      <td>...</td>\n",
       "      <td>...</td>\n",
       "      <td>...</td>\n",
       "      <td>...</td>\n",
       "    </tr>\n",
       "    <tr>\n",
       "      <th>546</th>\n",
       "      <td>Superior Bank, FSB</td>\n",
       "      <td>Hinsdale</td>\n",
       "      <td>IL</td>\n",
       "      <td>32646</td>\n",
       "      <td>Superior Federal, FSB</td>\n",
       "      <td>27-Jul-01</td>\n",
       "      <td>19-Aug-14</td>\n",
       "    </tr>\n",
       "    <tr>\n",
       "      <th>547</th>\n",
       "      <td>Malta National Bank</td>\n",
       "      <td>Malta</td>\n",
       "      <td>OH</td>\n",
       "      <td>6629</td>\n",
       "      <td>North Valley Bank</td>\n",
       "      <td>3-May-01</td>\n",
       "      <td>18-Nov-02</td>\n",
       "    </tr>\n",
       "    <tr>\n",
       "      <th>548</th>\n",
       "      <td>First Alliance Bank &amp; Trust Co.</td>\n",
       "      <td>Manchester</td>\n",
       "      <td>NH</td>\n",
       "      <td>34264</td>\n",
       "      <td>Southern New Hampshire Bank &amp; Trust</td>\n",
       "      <td>2-Feb-01</td>\n",
       "      <td>18-Feb-03</td>\n",
       "    </tr>\n",
       "    <tr>\n",
       "      <th>549</th>\n",
       "      <td>National State Bank of Metropolis</td>\n",
       "      <td>Metropolis</td>\n",
       "      <td>IL</td>\n",
       "      <td>3815</td>\n",
       "      <td>Banterra Bank of Marion</td>\n",
       "      <td>14-Dec-00</td>\n",
       "      <td>17-Mar-05</td>\n",
       "    </tr>\n",
       "    <tr>\n",
       "      <th>550</th>\n",
       "      <td>Bank of Honolulu</td>\n",
       "      <td>Honolulu</td>\n",
       "      <td>HI</td>\n",
       "      <td>21029</td>\n",
       "      <td>Bank of the Orient</td>\n",
       "      <td>13-Oct-00</td>\n",
       "      <td>17-Mar-05</td>\n",
       "    </tr>\n",
       "  </tbody>\n",
       "</table>\n",
       "<p>551 rows × 7 columns</p>\n",
       "</div>"
      ],
      "text/plain": [
       "                                             Bank Name                City  \\\n",
       "0                                  Fayette County Bank          Saint Elmo   \n",
       "1    Guaranty Bank, (d/b/a BestBank in Georgia & Mi...           Milwaukee   \n",
       "2                                       First NBC Bank         New Orleans   \n",
       "3                                        Proficio Bank  Cottonwood Heights   \n",
       "4                        Seaway Bank and Trust Company             Chicago   \n",
       "..                                                 ...                 ...   \n",
       "546                                 Superior Bank, FSB            Hinsdale   \n",
       "547                                Malta National Bank               Malta   \n",
       "548                    First Alliance Bank & Trust Co.          Manchester   \n",
       "549                  National State Bank of Metropolis          Metropolis   \n",
       "550                                   Bank of Honolulu            Honolulu   \n",
       "\n",
       "     ST   CERT                Acquiring Institution Closing Date Updated Date  \n",
       "0    IL   1802            United Fidelity Bank, fsb    26-May-17     1-Jun-17  \n",
       "1    WI  30003  First-Citizens Bank & Trust Company     5-May-17     1-Jun-17  \n",
       "2    LA  58302                         Whitney Bank    28-Apr-17    23-May-17  \n",
       "3    UT  35495                    Cache Valley Bank     3-Mar-17    18-May-17  \n",
       "4    IL  19328                  State Bank of Texas    27-Jan-17    18-May-17  \n",
       "..   ..    ...                                  ...          ...          ...  \n",
       "546  IL  32646                Superior Federal, FSB    27-Jul-01    19-Aug-14  \n",
       "547  OH   6629                    North Valley Bank     3-May-01    18-Nov-02  \n",
       "548  NH  34264  Southern New Hampshire Bank & Trust     2-Feb-01    18-Feb-03  \n",
       "549  IL   3815              Banterra Bank of Marion    14-Dec-00    17-Mar-05  \n",
       "550  HI  21029                   Bank of the Orient    13-Oct-00    17-Mar-05  \n",
       "\n",
       "[551 rows x 7 columns]"
      ]
     },
     "execution_count": 2,
     "metadata": {},
     "output_type": "execute_result"
    }
   ],
   "source": [
    "banks=pd.read_csv(\"banklist.csv\")\n",
    "banks"
   ]
  },
  {
   "cell_type": "markdown",
   "metadata": {},
   "source": [
    "** Show the head of the dataframe **"
   ]
  },
  {
   "cell_type": "code",
   "execution_count": 3,
   "metadata": {},
   "outputs": [
    {
     "data": {
      "text/html": [
       "<div>\n",
       "<style scoped>\n",
       "    .dataframe tbody tr th:only-of-type {\n",
       "        vertical-align: middle;\n",
       "    }\n",
       "\n",
       "    .dataframe tbody tr th {\n",
       "        vertical-align: top;\n",
       "    }\n",
       "\n",
       "    .dataframe thead th {\n",
       "        text-align: right;\n",
       "    }\n",
       "</style>\n",
       "<table border=\"1\" class=\"dataframe\">\n",
       "  <thead>\n",
       "    <tr style=\"text-align: right;\">\n",
       "      <th></th>\n",
       "      <th>Bank Name</th>\n",
       "      <th>City</th>\n",
       "      <th>ST</th>\n",
       "      <th>CERT</th>\n",
       "      <th>Acquiring Institution</th>\n",
       "      <th>Closing Date</th>\n",
       "      <th>Updated Date</th>\n",
       "    </tr>\n",
       "  </thead>\n",
       "  <tbody>\n",
       "    <tr>\n",
       "      <th>0</th>\n",
       "      <td>Fayette County Bank</td>\n",
       "      <td>Saint Elmo</td>\n",
       "      <td>IL</td>\n",
       "      <td>1802</td>\n",
       "      <td>United Fidelity Bank, fsb</td>\n",
       "      <td>26-May-17</td>\n",
       "      <td>1-Jun-17</td>\n",
       "    </tr>\n",
       "    <tr>\n",
       "      <th>1</th>\n",
       "      <td>Guaranty Bank, (d/b/a BestBank in Georgia &amp; Mi...</td>\n",
       "      <td>Milwaukee</td>\n",
       "      <td>WI</td>\n",
       "      <td>30003</td>\n",
       "      <td>First-Citizens Bank &amp; Trust Company</td>\n",
       "      <td>5-May-17</td>\n",
       "      <td>1-Jun-17</td>\n",
       "    </tr>\n",
       "    <tr>\n",
       "      <th>2</th>\n",
       "      <td>First NBC Bank</td>\n",
       "      <td>New Orleans</td>\n",
       "      <td>LA</td>\n",
       "      <td>58302</td>\n",
       "      <td>Whitney Bank</td>\n",
       "      <td>28-Apr-17</td>\n",
       "      <td>23-May-17</td>\n",
       "    </tr>\n",
       "    <tr>\n",
       "      <th>3</th>\n",
       "      <td>Proficio Bank</td>\n",
       "      <td>Cottonwood Heights</td>\n",
       "      <td>UT</td>\n",
       "      <td>35495</td>\n",
       "      <td>Cache Valley Bank</td>\n",
       "      <td>3-Mar-17</td>\n",
       "      <td>18-May-17</td>\n",
       "    </tr>\n",
       "    <tr>\n",
       "      <th>4</th>\n",
       "      <td>Seaway Bank and Trust Company</td>\n",
       "      <td>Chicago</td>\n",
       "      <td>IL</td>\n",
       "      <td>19328</td>\n",
       "      <td>State Bank of Texas</td>\n",
       "      <td>27-Jan-17</td>\n",
       "      <td>18-May-17</td>\n",
       "    </tr>\n",
       "  </tbody>\n",
       "</table>\n",
       "</div>"
      ],
      "text/plain": [
       "                                           Bank Name                City  ST  \\\n",
       "0                                Fayette County Bank          Saint Elmo  IL   \n",
       "1  Guaranty Bank, (d/b/a BestBank in Georgia & Mi...           Milwaukee  WI   \n",
       "2                                     First NBC Bank         New Orleans  LA   \n",
       "3                                      Proficio Bank  Cottonwood Heights  UT   \n",
       "4                      Seaway Bank and Trust Company             Chicago  IL   \n",
       "\n",
       "    CERT                Acquiring Institution Closing Date Updated Date  \n",
       "0   1802            United Fidelity Bank, fsb    26-May-17     1-Jun-17  \n",
       "1  30003  First-Citizens Bank & Trust Company     5-May-17     1-Jun-17  \n",
       "2  58302                         Whitney Bank    28-Apr-17    23-May-17  \n",
       "3  35495                    Cache Valley Bank     3-Mar-17    18-May-17  \n",
       "4  19328                  State Bank of Texas    27-Jan-17    18-May-17  "
      ]
     },
     "execution_count": 3,
     "metadata": {},
     "output_type": "execute_result"
    }
   ],
   "source": [
    "# CODE HERE\n",
    "banks.head()"
   ]
  },
  {
   "cell_type": "markdown",
   "metadata": {},
   "source": [
    "** What are the column names? **"
   ]
  },
  {
   "cell_type": "code",
   "execution_count": null,
   "metadata": {},
   "outputs": [],
   "source": []
  },
  {
   "cell_type": "code",
   "execution_count": 4,
   "metadata": {},
   "outputs": [
    {
     "name": "stdout",
     "output_type": "stream",
     "text": [
      "Index(['Bank Name', 'City', 'ST', 'CERT', 'Acquiring Institution',\n",
      "       'Closing Date', 'Updated Date'],\n",
      "      dtype='object')\n"
     ]
    }
   ],
   "source": [
    "# CODE HERE\n",
    "x=banks.columns\n",
    "print(x)"
   ]
  },
  {
   "cell_type": "markdown",
   "metadata": {},
   "source": [
    "** How many States (ST) are represented in this data set? **"
   ]
  },
  {
   "cell_type": "code",
   "execution_count": 5,
   "metadata": {},
   "outputs": [
    {
     "data": {
      "text/plain": [
       "ST\n",
       "GA    93\n",
       "FL    75\n",
       "IL    67\n",
       "CA    41\n",
       "MN    23\n",
       "WA    19\n",
       "AZ    16\n",
       "MO    16\n",
       "MI    14\n",
       "TX    12\n",
       "NV    12\n",
       "WI    11\n",
       "SC    10\n",
       "PA    10\n",
       "CO    10\n",
       "MD    10\n",
       "KS     9\n",
       "UT     8\n",
       "OH     8\n",
       "AL     7\n",
       "TN     7\n",
       "OK     7\n",
       "NC     7\n",
       "NJ     7\n",
       "OR     6\n",
       "NY     5\n",
       "VA     5\n",
       "PR     4\n",
       "LA     4\n",
       "NE     3\n",
       "NM     3\n",
       "IN     3\n",
       "AR     3\n",
       "ID     2\n",
       "IA     2\n",
       "CT     2\n",
       "KY     2\n",
       "MS     2\n",
       "HI     1\n",
       "MA     1\n",
       "NH     1\n",
       "SD     1\n",
       "WV     1\n",
       "WY     1\n",
       "Name: count, dtype: int64"
      ]
     },
     "execution_count": 5,
     "metadata": {},
     "output_type": "execute_result"
    }
   ],
   "source": [
    "# CODE HERE\n",
    "x=banks.value_counts('ST')\n",
    "x"
   ]
  },
  {
   "cell_type": "markdown",
   "metadata": {},
   "source": [
    "** Get a list or array of all the states in the data set. **"
   ]
  },
  {
   "cell_type": "code",
   "execution_count": 6,
   "metadata": {},
   "outputs": [
    {
     "name": "stdout",
     "output_type": "stream",
     "text": [
      "['IL', 'WI', 'LA', 'UT', 'IL', 'NJ', 'AR', 'GA', 'PA', 'TN', 'WI', 'WA', 'GA', 'CO', 'IL', 'PR', 'GA', 'IL', 'FL', 'MN', 'CA', 'IL', 'MD', 'IL', 'GA', 'OK', 'FL', 'IL', 'MD', 'OH', 'IL', 'SC', 'PA', 'VA', 'ID', 'OK', 'IL', 'TX', 'FL', 'TX', 'CT', 'AZ', 'TN', 'WI', 'FL', 'TN', 'NV', 'WI', 'AZ', 'GA', 'NC', 'GA', 'NC', 'FL', 'FL', 'KY', 'AZ', 'GA', 'IL', 'MN', 'WA', 'MO', 'GA', 'IL', 'FL', 'PA', 'MO', 'FL', 'FL', 'IL', 'MO', 'MN', 'IL', 'GA', 'IL', 'KS', 'GA', 'GA', 'FL', 'MO', 'GA', 'TN', 'GA', 'FL', 'NC', 'IL', 'SC', 'OK', 'AL', 'FL', 'CA', 'SC', 'MN', 'MD', 'MD', 'NJ', 'MI', 'IL', 'GA', 'IL', 'GA', 'MN', 'GA', 'IN', 'IL', 'TN', 'MN', 'TN', 'FL', 'PA', 'GA', 'FL', 'AZ', 'FL', 'LA', 'IA', 'GA', 'UT', 'NE', 'IL', 'CO', 'GA', 'GA', 'FL', 'IL', 'NJ', 'NC', 'GA', 'MO', 'MN', 'TX', 'CA', 'VA', 'FL', 'GA', 'GA', 'IL', 'GA', 'FL', 'PA', 'KS', 'WA', 'IL', 'IN', 'SC', 'VA', 'CO', 'FL', 'FL', 'AZ', 'FL', 'GA', 'GA', 'CO', 'CO', 'IL', 'GA', 'FL', 'GA', 'SC', 'WA', 'WA', 'GA', 'GA', 'FL', 'MI', 'GA', 'GA', 'FL', 'FL', 'MS', 'MN', 'AL', 'AL', 'GA', 'GA', 'NV', 'IL', 'IL', 'WI', 'OK', 'IL', 'CA', 'CA', 'GA', 'GA', 'CA', 'WI', 'MI', 'FL', 'IL', 'GA', 'GA', 'NM', 'CO', 'WI', 'OK', 'CO', 'NC', 'SC', 'GA', 'GA', 'AZ', 'FL', 'MN', 'AR', 'GA', 'GA', 'GA', 'FL', 'PA', 'MI', 'WI', 'PA', 'FL', 'AZ', 'GA', 'GA', 'CA', 'WA', 'CA', 'MD', 'AZ', 'KS', 'IL', 'GA', 'GA', 'FL', 'FL', 'MO', 'MO', 'KS', 'WA', 'FL', 'WA', 'FL', 'WI', 'OH', 'GA', 'GA', 'GA', 'NJ', 'FL', 'CA', 'CA', 'CA', 'CA', 'IL', 'VA', 'FL', 'FL', 'IL', 'IL', 'OR', 'WA', 'FL', 'FL', 'GA', 'OR', 'NV', 'MN', 'KS', 'SC', 'GA', 'FL', 'MI', 'FL', 'FL', 'FL', 'SC', 'SC', 'OK', 'NY', 'MD', 'MD', 'NM', 'GA', 'FL', 'NV', 'WA', 'NE', 'IL', 'MS', 'NV', 'CA', 'FL', 'FL', 'FL', 'MN', 'IL', 'MO', 'MI', 'GA', 'CA', 'AZ', 'MN', 'FL', 'WA', 'MO', 'MO', 'MI', 'PR', 'PR', 'PR', 'IL', 'IL', 'IL', 'IL', 'IL', 'IL', 'IL', 'WA', 'CA', 'CA', 'MA', 'FL', 'FL', 'FL', 'MI', 'SC', 'AZ', 'GA', 'FL', 'GA', 'MN', 'AL', 'GA', 'GA', 'UT', 'GA', 'OH', 'LA', 'FL', 'NY', 'NY', 'UT', 'MD', 'IL', 'FL', 'WA', 'NV', 'CA', 'IL', 'TX', 'FL', 'MN', 'WA', 'CA', 'GA', 'MN', 'FL', 'GA', 'OR', 'WA', 'NM', 'MO', 'FL', 'UT', 'MN', 'IL', 'WA', 'CA', 'CA', 'IL', 'AL', 'MI', 'FL', 'GA', 'KS', 'AZ', 'FL', 'VA', 'IL', 'OH', 'GA', 'GA', 'GA', 'FL', 'CA', 'FL', 'FL', 'CA', 'MO', 'MN', 'MI', 'GA', 'TX', 'TX', 'TX', 'IL', 'CA', 'CA', 'CA', 'IL', 'AZ', 'IL', 'MN', 'WI', 'FL', 'FL', 'GA', 'FL', 'CA', 'CO', 'MN', 'MI', 'GA', 'KY', 'IN', 'WA', 'MN', 'IL', 'AZ', 'IL', 'IA', 'IL', 'MO', 'CA', 'MN', 'MD', 'TX', 'AL', 'GA', 'GA', 'NV', 'AZ', 'AZ', 'AL', 'PA', 'OR', 'FL', 'FL', 'IL', 'NJ', 'OH', 'FL', 'OK', 'GA', 'GA', 'GA', 'GA', 'GA', 'GA', 'NY', 'CA', 'CA', 'SD', 'GA', 'WY', 'IL', 'TX', 'IL', 'IL', 'IL', 'IL', 'IL', 'CA', 'CA', 'MN', 'GA', 'GA', 'KS', 'NC', 'GA', 'IL', 'IL', 'IL', 'FL', 'WA', 'UT', 'NJ', 'GA', 'ID', 'CA', 'MI', 'GA', 'NV', 'MO', 'CO', 'NC', 'GA', 'KS', 'CO', 'GA', 'GA', 'NV', 'IL', 'OR', 'OR', 'IL', 'FL', 'NE', 'CA', 'CA', 'GA', 'FL', 'MD', 'UT', 'CA', 'WA', 'IL', 'TX', 'GA', 'GA', 'CA', 'CA', 'GA', 'CA', 'TX', 'FL', 'GA', 'IL', 'MI', 'NV', 'WV', 'NV', 'GA', 'KS', 'FL', 'CA', 'NV', 'CA', 'MN', 'AR', 'MO', 'MO', 'OH', 'GA', 'PA', 'UT', 'NY', 'FL', 'NJ', 'PA', 'WI', 'CA', 'LA', 'TN', 'GA', 'CT', 'MI', 'FL', 'AZ', 'OH', 'TX', 'FL', 'IL', 'OH', 'NH', 'IL', 'HI']\n"
     ]
    }
   ],
   "source": [
    "# CODE HERE\n",
    "x=list (banks[\"ST\"])\n",
    "print(x)"
   ]
  },
  {
   "cell_type": "code",
   "execution_count": null,
   "metadata": {},
   "outputs": [],
   "source": []
  },
  {
   "cell_type": "markdown",
   "metadata": {},
   "source": [
    "** What are the top 5 states with the most failed banks? **"
   ]
  },
  {
   "cell_type": "code",
   "execution_count": 7,
   "metadata": {
    "scrolled": true
   },
   "outputs": [
    {
     "data": {
      "text/plain": [
       "ST\n",
       "GA    93\n",
       "FL    75\n",
       "IL    67\n",
       "CA    41\n",
       "MN    23\n",
       "Name: count, dtype: int64"
      ]
     },
     "execution_count": 7,
     "metadata": {},
     "output_type": "execute_result"
    }
   ],
   "source": [
    "# CODE HERE\n",
    "state_failed = banks['ST'].value_counts()\n",
    "state_failed.head()"
   ]
  },
  {
   "cell_type": "code",
   "execution_count": null,
   "metadata": {},
   "outputs": [],
   "source": []
  },
  {
   "cell_type": "markdown",
   "metadata": {},
   "source": [
    "** What are the top 5 acquiring institutions? **"
   ]
  },
  {
   "cell_type": "code",
   "execution_count": 8,
   "metadata": {},
   "outputs": [
    {
     "data": {
      "text/plain": [
       "Acquiring Institution\n",
       "No Acquirer                            31\n",
       "State Bank and Trust Company           12\n",
       "First-Citizens Bank & Trust Company    11\n",
       "Ameris Bank                            10\n",
       "U.S. Bank N.A.                          9\n",
       "Name: count, dtype: int64"
      ]
     },
     "execution_count": 8,
     "metadata": {},
     "output_type": "execute_result"
    }
   ],
   "source": [
    "# CODE HERE\n",
    "acquiring = banks['Acquiring Institution'].value_counts()\n",
    "acquiring.head()\n"
   ]
  },
  {
   "cell_type": "code",
   "execution_count": null,
   "metadata": {},
   "outputs": [],
   "source": []
  },
  {
   "cell_type": "markdown",
   "metadata": {},
   "source": [
    "** How many banks has the State Bank of Texas acquired? How many of them were actually in Texas?**"
   ]
  },
  {
   "cell_type": "code",
   "execution_count": 9,
   "metadata": {},
   "outputs": [
    {
     "name": "stdout",
     "output_type": "stream",
     "text": [
      "Total banks acquired by State Bank of Texas: 3\n",
      "Number of acquired banks that were in Texas: 1\n"
     ]
    }
   ],
   "source": [
    "# CODE HERE\n",
    "acquired_banks = banks[banks['Acquiring Institution'] == 'State Bank of Texas']\n",
    "\n",
    "total_acquired_by_sbtx = acquired_banks.shape[0]\n",
    "acquired_in_texas = acquired_banks[acquired_banks['ST'] == 'TX'].shape[0]\n",
    "\n",
    "print(f\"Total banks acquired by State Bank of Texas: {total_acquired_by_sbtx}\")\n",
    "print(f\"Number of acquired banks that were in Texas: {acquired_in_texas}\")"
   ]
  },
  {
   "cell_type": "code",
   "execution_count": null,
   "metadata": {},
   "outputs": [],
   "source": []
  },
  {
   "cell_type": "markdown",
   "metadata": {},
   "source": [
    "** What is the most common city in California for a bank to fail in?**"
   ]
  },
  {
   "cell_type": "code",
   "execution_count": 10,
   "metadata": {},
   "outputs": [
    {
     "data": {
      "text/plain": [
       "'Los Angeles'"
      ]
     },
     "execution_count": 10,
     "metadata": {},
     "output_type": "execute_result"
    }
   ],
   "source": [
    "# CODE HERE\n",
    "CA_banks = banks[banks['ST'] == 'CA']\n",
    "\n",
    "most_common_city = CA_banks['City'].mode()[0]\n",
    "most_common_city\n"
   ]
  },
  {
   "cell_type": "code",
   "execution_count": null,
   "metadata": {},
   "outputs": [],
   "source": []
  },
  {
   "cell_type": "markdown",
   "metadata": {},
   "source": [
    "** How many failed banks don't have the word \"Bank\" in their name? **"
   ]
  },
  {
   "cell_type": "code",
   "execution_count": 11,
   "metadata": {},
   "outputs": [
    {
     "data": {
      "text/plain": [
       "10"
      ]
     },
     "execution_count": 11,
     "metadata": {},
     "output_type": "execute_result"
    }
   ],
   "source": [
    "# CODE HERE\n",
    "failed_bank = banks[~banks['Bank Name'].str.contains('Bank', case=False)].shape[0]\n",
    "failed_bank"
   ]
  },
  {
   "cell_type": "markdown",
   "metadata": {},
   "source": [
    "** How many bank names start with the letter 's' ? **"
   ]
  },
  {
   "cell_type": "code",
   "execution_count": 12,
   "metadata": {},
   "outputs": [
    {
     "name": "stdout",
     "output_type": "stream",
     "text": [
      "53\n"
     ]
    }
   ],
   "source": [
    "# CODE HERE\n",
    "name_bank=banks[banks[\"Bank Name\"].str.startswith('S')].shape[0]\n",
    "print(name_bank)"
   ]
  },
  {
   "cell_type": "code",
   "execution_count": null,
   "metadata": {},
   "outputs": [],
   "source": []
  },
  {
   "cell_type": "markdown",
   "metadata": {},
   "source": [
    "** How many CERT values are above 20000 ? **"
   ]
  },
  {
   "cell_type": "code",
   "execution_count": 13,
   "metadata": {},
   "outputs": [
    {
     "name": "stdout",
     "output_type": "stream",
     "text": [
      "                                             Bank Name                City  \\\n",
      "1    Guaranty Bank, (d/b/a BestBank in Georgia & Mi...           Milwaukee   \n",
      "2                                       First NBC Bank         New Orleans   \n",
      "3                                        Proficio Bank  Cottonwood Heights   \n",
      "5                               Harvest Community Bank          Pennsville   \n",
      "8                               First CornerStone Bank     King of Prussia   \n",
      "..                                                 ...                 ...   \n",
      "544                              Bank of Sierra Blanca       Sierra Blanca   \n",
      "545                                  Hamilton Bank, NA               Miami   \n",
      "546                                 Superior Bank, FSB            Hinsdale   \n",
      "548                    First Alliance Bank & Trust Co.          Manchester   \n",
      "550                                   Bank of Honolulu            Honolulu   \n",
      "\n",
      "     ST   CERT                Acquiring Institution Closing Date Updated Date  \n",
      "1    WI  30003  First-Citizens Bank & Trust Company     5-May-17     1-Jun-17  \n",
      "2    LA  58302                         Whitney Bank    28-Apr-17    23-May-17  \n",
      "3    UT  35495                    Cache Valley Bank     3-Mar-17    18-May-17  \n",
      "5    NJ  34951  First-Citizens Bank & Trust Company    13-Jan-17    18-May-17  \n",
      "8    PA  35312  First-Citizens Bank & Trust Company     6-May-16     6-Sep-16  \n",
      "..   ..    ...                                  ...          ...          ...  \n",
      "544  TX  22002     The Security State Bank of Pecos    18-Jan-02     6-Nov-03  \n",
      "545  FL  24382     Israel Discount Bank of New York    11-Jan-02    21-Sep-15  \n",
      "546  IL  32646                Superior Federal, FSB    27-Jul-01    19-Aug-14  \n",
      "548  NH  34264  Southern New Hampshire Bank & Trust     2-Feb-01    18-Feb-03  \n",
      "550  HI  21029                   Bank of the Orient    13-Oct-00    17-Mar-05  \n",
      "\n",
      "[417 rows x 7 columns]\n"
     ]
    }
   ],
   "source": [
    "# CODE HERE\n",
    "cert_max=banks[banks[\"CERT\"]>20000]\n",
    "print(cert_max)"
   ]
  },
  {
   "cell_type": "code",
   "execution_count": null,
   "metadata": {},
   "outputs": [],
   "source": []
  },
  {
   "cell_type": "markdown",
   "metadata": {},
   "source": [
    "** How many bank names consist of just two words? (e.g. \"First Bank\" , \"Bank Georgia\" )**"
   ]
  },
  {
   "cell_type": "code",
   "execution_count": 14,
   "metadata": {},
   "outputs": [
    {
     "name": "stdout",
     "output_type": "stream",
     "text": [
      "Number of banks with exactly two words in their name: 114\n"
     ]
    }
   ],
   "source": [
    "# CODE HERE\n",
    "banks['Word Count'] = banks['Bank Name'].str.split().str.len()\n",
    "banks_two_words = banks[banks['Word Count'] == 2]\n",
    "count_banks_two_words = banks_two_words.shape[0]\n",
    "\n",
    "print(f\"Number of banks with exactly two words in their name: {count_banks_two_words}\")"
   ]
  },
  {
   "cell_type": "code",
   "execution_count": null,
   "metadata": {},
   "outputs": [],
   "source": []
  },
  {
   "cell_type": "markdown",
   "metadata": {},
   "source": [
    "How many banks closed in the year 2008?"
   ]
  },
  {
   "cell_type": "code",
   "execution_count": null,
   "metadata": {},
   "outputs": [
    {
     "name": "stdout",
     "output_type": "stream",
     "text": [
      "25\n"
     ]
    }
   ],
   "source": [
    "# CODE HERE\n",
    "banks['Closing Date'] = pd.to_datetime(banks['Closing Date'], format='%d-%b-%y')\n",
    "banks['Closing Date'] = banks['Closing Date'].dt.year\n",
    "\n",
    "count_banks_closed_2008 = banks[banks['Closing Date'] == 2008].shape[0]\n",
    "print(count_banks_closed_2008)"
   ]
  },
  {
   "cell_type": "code",
   "execution_count": null,
   "metadata": {},
   "outputs": [],
   "source": []
  },
  {
   "cell_type": "markdown",
   "metadata": {},
   "source": [
    "# GREAT JOB!"
   ]
  },
  {
   "cell_type": "markdown",
   "metadata": {},
   "source": []
  }
 ],
 "metadata": {
  "kernelspec": {
   "display_name": "Python 3",
   "language": "python",
   "name": "python3"
  },
  "language_info": {
   "codemirror_mode": {
    "name": "ipython",
    "version": 3
   },
   "file_extension": ".py",
   "mimetype": "text/x-python",
   "name": "python",
   "nbconvert_exporter": "python",
   "pygments_lexer": "ipython3",
   "version": "3.11.9"
  }
 },
 "nbformat": 4,
 "nbformat_minor": 4
}
