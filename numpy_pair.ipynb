{
 "cells": [
  {
   "cell_type": "markdown",
   "metadata": {
    "id": "PwomPslkNoMy"
   },
   "source": [
    "# NumPy Pair Problem\n",
    "\n",
    "For today's pair, we will use NumPy to complete the following tasks consecutively."
   ]
  },
  {
   "cell_type": "code",
   "execution_count": 1,
   "metadata": {
    "id": "IoZBcOlBNoMz"
   },
   "outputs": [],
   "source": [
    "import numpy as np\n",
    "\n",
    "# Set random seed so that results are reproducible\n",
    "np.random.seed(0)"
   ]
  },
  {
   "cell_type": "markdown",
   "metadata": {
    "id": "TLetCvyDNoMz"
   },
   "source": [
    "### 1. Generate three separate 1-dimensional arrays of 10,000 elements each.\n",
    "* Array 1 should contain numbers randomly drawn from the uniform distribution between 1 and 100\n",
    "* Array 2 should contain numbers randomly drawn from the normal distribution, with a mean of 0 and a standard deviation of 1\n",
    "* Array 3 should contain numbers randomly drawn from the binomial distribution, where n=10 and p=0.5"
   ]
  },
  {
   "cell_type": "code",
   "execution_count": 57,
   "metadata": {
    "colab": {
     "base_uri": "https://localhost:8080/"
    },
    "id": "dqOGI7rvNoM0",
    "outputId": "92b62905-2ecb-4b2b-caa1-d2d5baaf50dd"
   },
   "outputs": [
    {
     "data": {
      "text/plain": [
       "array([4, 5, 5, ..., 5, 4, 4])"
      ]
     },
     "execution_count": 57,
     "metadata": {},
     "output_type": "execute_result"
    }
   ],
   "source": [
    "array1 = np.random.uniform(1, 100, 10000)\n",
    "array2 = np.random.normal(0, 1, 10000)\n",
    "array3 = np.random.binomial(10, 0.5, 10000)\n",
    "array3"
   ]
  },
  {
   "cell_type": "markdown",
   "metadata": {
    "id": "jfWcfQRdNoM0"
   },
   "source": [
    "### 2. For each array, randomly sample 1,000 rows without replacement. (hint: `np.random.choice()`)\n"
   ]
  },
  {
   "cell_type": "code",
   "execution_count": 58,
   "metadata": {
    "colab": {
     "base_uri": "https://localhost:8080/"
    },
    "id": "OD4EFKDTNoM0",
    "outputId": "8f89ebd3-6b01-4aa3-b183-055d65280970"
   },
   "outputs": [
    {
     "name": "stdout",
     "output_type": "stream",
     "text": [
      "[22.82505784 72.23603848 73.69670482 29.80696432 40.46328307 95.02707208\n",
      " 92.90497616  7.1161279  84.14966865]\n",
      "[ 1.63920097 -1.08501398  0.06679293 -0.41540346  0.43090726  0.32312015\n",
      "  1.53491933 -0.21782625  0.88094935]\n",
      "[ 6  5  7  3  5  2 10  4  6]\n"
     ]
    }
   ],
   "source": [
    "array1 = np.random.choice(array1, 1000, replace=False)\n",
    "array2 = np.random.choice(array2, 1000, replace=False)\n",
    "array3 = np.random.choice(array3, 1000, replace=False)\n",
    "print(array1[1:10])\n",
    "print(array2[1:10])\n",
    "print(array3[1:10])"
   ]
  },
  {
   "cell_type": "markdown",
   "metadata": {
    "id": "F3KCpUakNoM0"
   },
   "source": [
    "### 3. For each of the three samples:  \n",
    "- Calculate the mean, median, and standard deviation\n",
    "- Find the index and the value of the largest element (hint: `np.argmax()`)  \n",
    "- Find the value of the 75th percentile (hint: `np.percentile()`)  "
   ]
  },
  {
   "cell_type": "code",
   "execution_count": 59,
   "metadata": {
    "colab": {
     "base_uri": "https://localhost:8080/"
    },
    "id": "BtCmcFtNNoM0",
    "outputId": "a1489e25-1004-467d-cd97-4badc35777ce"
   },
   "outputs": [
    {
     "name": "stdout",
     "output_type": "stream",
     "text": [
      "50.552213219585695 -0.033986719219710367 4.896\n",
      "255 628 7\n"
     ]
    }
   ],
   "source": [
    "mean1 = np.mean(array1)\n",
    "mean2 = np.mean(array2)\n",
    "mean3 = np.mean(array3)\n",
    "print(mean1,mean2,mean3)\n",
    "\n",
    "largest1 = np.argmax(array1)\n",
    "largest2 = np.argmax(array2)\n",
    "largest3 = np.argmax(array3)\n",
    "print(largest1,largest2,largest3)\n"
   ]
  },
  {
   "cell_type": "code",
   "execution_count": 60,
   "metadata": {
    "colab": {
     "base_uri": "https://localhost:8080/"
    },
    "id": "hQK9oTHBQFrd",
    "outputId": "8237fcd0-1900-40ab-b8c9-6e5d68b65db4"
   },
   "outputs": [
    {
     "name": "stdout",
     "output_type": "stream",
     "text": [
      "28.406698883921372 0.9747233951952765 1.562428878381349\n"
     ]
    }
   ],
   "source": [
    "std1 = np.std(array1)\n",
    "std2 = np.std(array2)\n",
    "std3 = np.std(array3)\n",
    "print(std1,std2,std3)"
   ]
  },
  {
   "cell_type": "code",
   "execution_count": 61,
   "metadata": {
    "colab": {
     "base_uri": "https://localhost:8080/"
    },
    "id": "p7EBEejPQIsp",
    "outputId": "4eebdd35-1c7e-41e6-9e62-bb7e501ecc04"
   },
   "outputs": [
    {
     "name": "stdout",
     "output_type": "stream",
     "text": [
      "50.00499476743026 -0.026937092247233604 5.0\n"
     ]
    }
   ],
   "source": [
    "median1 = np.median(array1)\n",
    "median2 = np.median(array2)\n",
    "median3 = np.median(array3)\n",
    "print(median1,median2,median3)"
   ]
  },
  {
   "cell_type": "code",
   "execution_count": 62,
   "metadata": {
    "colab": {
     "base_uri": "https://localhost:8080/"
    },
    "id": "_Cs8mNXIQR4m",
    "outputId": "ab267abd-abcb-4d42-f6a3-5eda39e083e7"
   },
   "outputs": [
    {
     "name": "stdout",
     "output_type": "stream",
     "text": [
      "255 628 7\n"
     ]
    }
   ],
   "source": [
    "largest1 = np.argmax(array1)\n",
    "largest2 = np.argmax(array2)\n",
    "largest3 = np.argmax(array3)\n",
    "print(largest1,largest2,largest3)"
   ]
  },
  {
   "cell_type": "code",
   "execution_count": 63,
   "metadata": {
    "colab": {
     "base_uri": "https://localhost:8080/"
    },
    "id": "JINvzNRqQWhZ",
    "outputId": "6e28b7dc-e282-4901-d96d-14ba647d8f6f"
   },
   "outputs": [
    {
     "name": "stdout",
     "output_type": "stream",
     "text": [
      "75.20925502271464 0.6323050377198595 6.0\n"
     ]
    }
   ],
   "source": [
    "thirdpercentile1 = np.percentile(array1,75)\n",
    "thirdpercentile2 = np.percentile(array2,75)\n",
    "thirdpercentile3 = np.percentile(array3,75)\n",
    "print(thirdpercentile1,thirdpercentile2,thirdpercentile3)"
   ]
  },
  {
   "cell_type": "markdown",
   "metadata": {
    "id": "9V7LMUcbNoM0"
   },
   "source": [
    "### 4. Sort each of the three samples in increasing order, then combine them together to create a 1,000 by 3 array. (hint: `np.sort()` and `np.stack()`). Now, check the shape of the array."
   ]
  },
  {
   "cell_type": "code",
   "execution_count": 64,
   "metadata": {
    "colab": {
     "base_uri": "https://localhost:8080/"
    },
    "id": "k37ORLTgNoM0",
    "outputId": "83f66bc6-cd81-4766-983b-69cc6d3fbe80"
   },
   "outputs": [
    {
     "data": {
      "text/plain": [
       "array([[ 1.1110819 ,  1.13557152,  1.13695165, ..., 99.57570491,\n",
       "        99.65852424, 99.83117493],\n",
       "       [-3.69428529, -3.01787832, -2.92415314, ...,  2.52860191,\n",
       "         2.55385416,  2.69956844],\n",
       "       [ 1.        ,  1.        ,  1.        , ...,  9.        ,\n",
       "        10.        , 10.        ]])"
      ]
     },
     "execution_count": 64,
     "metadata": {},
     "output_type": "execute_result"
    }
   ],
   "source": [
    "a =np.sort(array1)\n",
    "b = np.sort(array2)\n",
    "c = np.sort(array3)\n",
    "combined_array = np.stack((a,b,c))\n",
    "combined_array"
   ]
  },
  {
   "cell_type": "code",
   "execution_count": 64,
   "metadata": {
    "id": "rEfPKoAONoM0"
   },
   "outputs": [],
   "source": []
  },
  {
   "cell_type": "markdown",
   "metadata": {
    "id": "k2zHbvVtNoM1"
   },
   "source": [
    "### 5. Replace all negative values with 0. Replace all values that exceed 10 with 10."
   ]
  },
  {
   "cell_type": "code",
   "execution_count": 65,
   "metadata": {
    "colab": {
     "base_uri": "https://localhost:8080/"
    },
    "id": "VEnQgpxhNoM1",
    "outputId": "abe44818-0ad7-4a38-cb3d-f4db0e074177"
   },
   "outputs": [
    {
     "data": {
      "text/plain": [
       "array([[ 1.1110819 ,  1.13557152,  1.13695165, ..., 10.        ,\n",
       "        10.        , 10.        ],\n",
       "       [ 0.        ,  0.        ,  0.        , ...,  2.52860191,\n",
       "         2.55385416,  2.69956844],\n",
       "       [ 1.        ,  1.        ,  1.        , ...,  9.        ,\n",
       "        10.        , 10.        ]])"
      ]
     },
     "execution_count": 65,
     "metadata": {},
     "output_type": "execute_result"
    }
   ],
   "source": [
    "s =np.clip(combined_array,0,10)\n",
    "s"
   ]
  },
  {
   "cell_type": "markdown",
   "metadata": {
    "id": "htsBmOiYNoM1"
   },
   "source": [
    "### 6. Subtract 5 from all values that exceed 5. (hint: `np.where()`)"
   ]
  },
  {
   "cell_type": "code",
   "execution_count": 66,
   "metadata": {
    "colab": {
     "base_uri": "https://localhost:8080/"
    },
    "id": "1kw1eMOpNoM1",
    "outputId": "c67a28e5-d4d1-4558-a5b5-56b22452dc56"
   },
   "outputs": [
    {
     "data": {
      "text/plain": [
       "(1000, 3)"
      ]
     },
     "execution_count": 66,
     "metadata": {},
     "output_type": "execute_result"
    }
   ],
   "source": [
    "d = np.where(s > 5, s-5, s)\n",
    "d = d.reshape(1000,3)\n",
    "d.shape"
   ]
  },
  {
   "cell_type": "markdown",
   "metadata": {
    "id": "9W3aqQh0NoM1"
   },
   "source": [
    "### 7. Produce a fourth column that is the sum of the first two columns.  (hint: `np.hstack()`). Now check the new shape of the array."
   ]
  },
  {
   "cell_type": "code",
   "execution_count": 67,
   "metadata": {
    "colab": {
     "base_uri": "https://localhost:8080/"
    },
    "id": "73W5oLMGW05c",
    "outputId": "5f0c1f23-91fd-42b9-f026-7a4faaf9f3a4"
   },
   "outputs": [
    {
     "name": "stdout",
     "output_type": "stream",
     "text": [
      "(1000, 1)\n"
     ]
    },
    {
     "data": {
      "text/plain": [
       "array([[1.1110819 , 1.13557152, 1.13695165, 2.24665342],\n",
       "       [1.16469874, 1.19416691, 1.3488835 , 2.35886565],\n",
       "       [2.04798822, 2.12234098, 2.26413372, 4.1703292 ],\n",
       "       ...,\n",
       "       [4.        , 4.        , 4.        , 8.        ],\n",
       "       [4.        , 4.        , 4.        , 8.        ],\n",
       "       [4.        , 5.        , 5.        , 9.        ]])"
      ]
     },
     "execution_count": 67,
     "metadata": {},
     "output_type": "execute_result"
    }
   ],
   "source": [
    "# prompt: how to add fourth_col into d array\n",
    "\n",
    "fourth_col = d[:, 0] + d[:, 1] # 1000,\n",
    "fourth_col = fourth_col.reshape(-1,1) # Reshape to a column vector , 1000 x 1\n",
    "print(fourth_col.shape)\n",
    "d = np.hstack((d, fourth_col))\n",
    "d"
   ]
  },
  {
   "cell_type": "code",
   "execution_count": 46,
   "metadata": {
    "id": "_ii3GM6kTVRR"
   },
   "outputs": [],
   "source": [
    "\n"
   ]
  },
  {
   "cell_type": "markdown",
   "metadata": {
    "id": "hXGw-eLGNoM1"
   },
   "source": [
    "### 8. Use broadcasting to add 1 to each element of the first column, 2 to each element of the second column, 3 to each element of the third column, and 4 to each element of the fourth column."
   ]
  },
  {
   "cell_type": "code",
   "execution_count": 69,
   "metadata": {
    "colab": {
     "base_uri": "https://localhost:8080/"
    },
    "id": "O2K0G2wIZi3C",
    "outputId": "f829f3f3-21a8-420c-892a-777b6cd3d1fd"
   },
   "outputs": [
    {
     "data": {
      "text/plain": [
       "array([[ 2.1110819 ,  3.13557152,  4.13695165,  6.24665342],\n",
       "       [ 2.16469874,  3.19416691,  4.3488835 ,  6.35886565],\n",
       "       [ 3.04798822,  4.12234098,  5.26413372,  8.1703292 ],\n",
       "       ...,\n",
       "       [ 5.        ,  6.        ,  7.        , 12.        ],\n",
       "       [ 5.        ,  6.        ,  7.        , 12.        ],\n",
       "       [ 5.        ,  7.        ,  8.        , 13.        ]])"
      ]
     },
     "execution_count": 69,
     "metadata": {},
     "output_type": "execute_result"
    }
   ],
   "source": [
    "# prompt: Use broadcasting to add 1 to each element of the first column, 2 to each element of the second column, 3 to each element of the third column, and 4 to each element of the fourth column.\n",
    "\n",
    "add_values = np.array([1, 2, 3, 4])\n",
    "d[:, :4] = d[:, :4] + add_values\n",
    "d\n"
   ]
  },
  {
   "cell_type": "code",
   "execution_count": 68,
   "metadata": {
    "colab": {
     "base_uri": "https://localhost:8080/"
    },
    "id": "bCOB6WGsNoM1",
    "outputId": "ed598801-ad12-4be0-e843-30aac0e0adef"
   },
   "outputs": [
    {
     "data": {
      "text/plain": [
       "2"
      ]
     },
     "execution_count": 68,
     "metadata": {},
     "output_type": "execute_result"
    }
   ],
   "source": []
  },
  {
   "cell_type": "markdown",
   "metadata": {
    "id": "t5T1DcwONoM1"
   },
   "source": [
    "### 9. Matrix multiply this 1000x4 array by a 4x1 array of ones. How many unique values are in the resulting product?  (hint: `np.unique()`)"
   ]
  },
  {
   "cell_type": "code",
   "execution_count": 70,
   "metadata": {
    "colab": {
     "base_uri": "https://localhost:8080/"
    },
    "id": "ElBrbk2SNoM1",
    "outputId": "24bc5e6f-9d60-4f41-9059-57a844ff6f67"
   },
   "outputs": [
    {
     "data": {
      "text/plain": [
       "202"
      ]
     },
     "execution_count": 70,
     "metadata": {},
     "output_type": "execute_result"
    }
   ],
   "source": [
    "# prompt: Matrix multiply this 1000x4 array by a 4x1 array of ones. How many unique values are in the resulting product? (hint: np.unique())\n",
    "\n",
    "ones_array = np.ones((4, 1))\n",
    "product_array = np.dot(d, ones_array)\n",
    "num_unique = len(np.unique(product_array))\n",
    "num_unique"
   ]
  },
  {
   "cell_type": "markdown",
   "metadata": {
    "id": "ydzY52nXNoM1"
   },
   "source": [
    "# Thank You"
   ]
  }
 ],
 "metadata": {
  "colab": {
   "provenance": []
  },
  "kernelspec": {
   "display_name": "Python 3",
   "language": "python",
   "name": "python3"
  },
  "language_info": {
   "codemirror_mode": {
    "name": "ipython",
    "version": 3
   },
   "file_extension": ".py",
   "mimetype": "text/x-python",
   "name": "python",
   "nbconvert_exporter": "python",
   "pygments_lexer": "ipython3",
   "version": "3.11.9"
  },
  "toc": {
   "base_numbering": 1,
   "nav_menu": {},
   "number_sections": false,
   "sideBar": true,
   "skip_h1_title": false,
   "title_cell": "Table of Contents",
   "title_sidebar": "Contents",
   "toc_cell": false,
   "toc_position": {},
   "toc_section_display": true,
   "toc_window_display": true
  }
 },
 "nbformat": 4,
 "nbformat_minor": 0
}
